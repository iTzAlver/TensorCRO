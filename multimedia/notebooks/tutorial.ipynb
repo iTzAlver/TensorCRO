{
 "cells": [
  {
   "cell_type": "markdown",
   "source": [
    "# TensorCRO tutorial: Max Ones.\n",
    "\n",
    "The CRO-SL algorithm is a general-purpose algorithm for finding the maximum of a function. It is a stochastic algorithm, which means that it is not guaranteed to find the global maximum, but it is guaranteed to find a local maximum. The algorithm is based on the idea of the coral reefs reproduction and is guaranteed to find a local maximum if the function is convex, and it is likely to find the global maximum if the selected operators are good enough.\n",
    "\n",
    "The algorithm is implemented in the TensorCRO library, which is a Python library for the CRO-SL algorithm.\n",
    "\n",
    "To implement a CRO-SL algorithm with TensorCRO library you must follow the following steps:\n",
    "\n",
    "1. [Understanding CRO-SL.](#understanding)\n",
    "2. [Define a fitness function to be MAXIMIZED.](#fitness)\n",
    "3. [Define the CRO-SL algorithm parameters.](#parameters)\n",
    "4. [Define the CRO-SL substrates.](#substrates)\n",
    "5. [Run the CRO-SL algorithm.](#fit)\n",
    "6. [Watch the replay.](#replay)\n",
    "7. [Building new substrates.](#new)\n",
    "8. [Connecting to SlackBot.](#slackbot)"
   ],
   "metadata": {
    "collapsed": false
   }
  },
  {
   "cell_type": "markdown",
   "source": [
    "## Understanding CRO-SL. <a name=\"understanding\"></a>\n",
    "\n",
    "CRO-SL is a heuristic and bio-inspired algorithm that simulates the reproduction of coral reefs for parameter optimization. Figure shows the steps that the algorithm follows to find the maximum of a function.\n",
    "\n",
    "The problem solved can be defined a follows:\n",
    "\n",
    "\n",
    "```math\n",
    "Given a function f(x, y, z, ...) to be maximized, find the maximum value of f(x) and the corresponding x, y, z, ... parameters that maximize the function f.\n",
    "```\n",
    "\n",
    "In this tutorial, we will maximize 5 parameters that their sum must be maximized. The best result will be the parameters with the highest value possible. This is known as the Max Ones problem.\n",
    "\n",
    "The algorithm follows 5 steps:\n",
    "\n",
    "1. **Initialize the population**: The population is initialized with random values in the range of each parameter. Some of the initialized values may correspond to alive corals and others to dead corals. The portion of alive corals in the reef is defined by the ``rho`` parameter.\n",
    "2. **Broadcast spawning**: ``Fb`` portion of alive corals are selected to use crossover operators (known as ``substrates``). The selected corals are used to create new corals, known as larvae. Each substrate has its own parameters, and it must be defined previously by the user.\n",
    "3. **Select the best individuals**: ``1 - Fb`` portion of the alive corals are selected to experiment a Gaussian Mutation, with 1% of variance for each parameter. New larvae are created from the mutated corals.\n",
    "4. **Larvae setting**: The current larvae are set in the population. The larvae fight for random positions of the coral, if their fitness is better than the random position, the larvae replaces the random position. If the larvae is worse than the random position, the larvae is discarded. This step is repeated ``k`` times, and if the larvae is not able to replace any position, it is definitely discarded. If a larvae fights with a dead coral, the larvae replaces the dead coral.\n",
    "5. **Fragmentation**: ``Fa`` portion of corals are selected to be fragmented. The selected corals are replaced by new corals with random values in the range of each parameter, following a ``Larvae Setting`` process.\n",
    "6. **Depredation**: ``Fd`` portion of the worst corals are selected to be depredated. The selected corals can die with a probability of ``Pd``.\n",
    "\n",
    "Overall, the algorithm has 6 parameters and a list of substrates. All parameters are real values between 0 and 1, except ``k`` which is a natural number with no upper limit.\n",
    "\n",
    "<p align=\"center\">\n",
    "    <img src=\"../cro_process.png\" width=\"400px\">\n",
    "</p>\n",
    "\n",
    "\n",
    "# Define the fitness function. <a name=\"fitness\"></a>\n",
    "\n",
    "In this tutorial, we want to maximize the sum of all the parameters for each coral, so we define the fitness function as follows:"
   ],
   "metadata": {
    "collapsed": false
   }
  },
  {
   "cell_type": "code",
   "execution_count": 1,
   "outputs": [],
   "source": [
    "def non_optimized_fitness_function(x: list[list[float]]) -> list[float]:\n",
    "    return [sum(individual) for individual in x]"
   ],
   "metadata": {
    "collapsed": false,
    "ExecuteTime": {
     "end_time": "2023-10-24T16:17:16.338283953Z",
     "start_time": "2023-10-24T16:17:16.336223996Z"
    }
   }
  },
  {
   "cell_type": "markdown",
   "source": [
    "As this framework makes use of TensorFlow, if your fitness function makes use of TensorFlow operations it will run even faster. The input of the fitness function is a list of larvae with NxM dimensions, where N is the number of larvae and M is the number of parameters. The output of the fitness function is a list of fitness values with N dimensions. The fitness function must be defined as follows in TensorFlow:"
   ],
   "metadata": {
    "collapsed": false
   }
  },
  {
   "cell_type": "code",
   "execution_count": 2,
   "outputs": [
    {
     "name": "stderr",
     "output_type": "stream",
     "text": [
      "2023-10-24 18:17:16.330577: I tensorflow/core/platform/cpu_feature_guard.cc:193] This TensorFlow binary is optimized with oneAPI Deep Neural Network Library (oneDNN) to use the following CPU instructions in performance-critical operations:  AVX2 FMA\n",
      "To enable them in other operations, rebuild TensorFlow with the appropriate compiler flags.\n",
      "2023-10-24 18:17:17.265207: W tensorflow/compiler/xla/stream_executor/platform/default/dso_loader.cc:64] Could not load dynamic library 'libnvinfer.so.7'; dlerror: libnvinfer.so.7: cannot open shared object file: No such file or directory\n",
      "2023-10-24 18:17:17.265279: W tensorflow/compiler/xla/stream_executor/platform/default/dso_loader.cc:64] Could not load dynamic library 'libnvinfer_plugin.so.7'; dlerror: libnvinfer_plugin.so.7: cannot open shared object file: No such file or directory\n",
      "2023-10-24 18:17:17.265285: W tensorflow/compiler/tf2tensorrt/utils/py_utils.cc:38] TF-TRT Warning: Cannot dlopen some TensorRT libraries. If you would like to use Nvidia GPU with TensorRT, please make sure the missing libraries mentioned above are installed properly.\n"
     ]
    }
   ],
   "source": [
    "import tensorflow as tf\n",
    "@tf.function\n",
    "def fitness_function(larvae: tf.Tensor) -> tf.Tensor:\n",
    "    return tf.reduce_sum(larvae, axis=-1)"
   ],
   "metadata": {
    "collapsed": false,
    "ExecuteTime": {
     "end_time": "2023-10-24T16:17:18.013083453Z",
     "start_time": "2023-10-24T16:17:16.337583570Z"
    }
   }
  },
  {
   "cell_type": "markdown",
   "source": [
    "In case you want to minimize the function, you can add a minus sign to the fitness function in the return value.\n",
    "\n",
    "# Define the CRO-SL algorithm parameters. <a name=\"parameters\"></a>\n",
    "\n",
    "The first thing to do is define the parameters of the individuals, this means, the bounds of each of the parameters. In this example, we will use 5 parameters, with different bounds. They must be defined as a 2 row tensor, where the first row is the lower bound and the second row is the upper bound. The lower bound must be smaller than the upper bound. They must be converted to a Tensor.\n",
    "\n",
    "The second thing is to define the reef shape. It is a rectangular shape where the columns MUST BE DIVISIBLE BY THE NUMBER OF SUBSTRATES. For example, we will use 3 substrates, so the reef columns must be divisible by 3. The reef rows are not limited.\n",
    "\n",
    "The third thing to do is define the parameters, the algorithm already has implemented a recommended set of parameters, but you can define your own parameters."
   ],
   "metadata": {
    "collapsed": false
   }
  },
  {
   "cell_type": "code",
   "execution_count": 3,
   "outputs": [
    {
     "name": "stderr",
     "output_type": "stream",
     "text": [
      "2023-10-24 18:17:18.319307: I tensorflow/compiler/xla/stream_executor/cuda/cuda_gpu_executor.cc:981] successful NUMA node read from SysFS had negative value (-1), but there must be at least one NUMA node, so returning NUMA node zero\n",
      "2023-10-24 18:17:18.442455: I tensorflow/compiler/xla/stream_executor/cuda/cuda_gpu_executor.cc:981] successful NUMA node read from SysFS had negative value (-1), but there must be at least one NUMA node, so returning NUMA node zero\n",
      "2023-10-24 18:17:18.442592: I tensorflow/compiler/xla/stream_executor/cuda/cuda_gpu_executor.cc:981] successful NUMA node read from SysFS had negative value (-1), but there must be at least one NUMA node, so returning NUMA node zero\n",
      "2023-10-24 18:17:18.443945: I tensorflow/core/platform/cpu_feature_guard.cc:193] This TensorFlow binary is optimized with oneAPI Deep Neural Network Library (oneDNN) to use the following CPU instructions in performance-critical operations:  AVX2 FMA\n",
      "To enable them in other operations, rebuild TensorFlow with the appropriate compiler flags.\n",
      "2023-10-24 18:17:18.444975: I tensorflow/compiler/xla/stream_executor/cuda/cuda_gpu_executor.cc:981] successful NUMA node read from SysFS had negative value (-1), but there must be at least one NUMA node, so returning NUMA node zero\n",
      "2023-10-24 18:17:18.445095: I tensorflow/compiler/xla/stream_executor/cuda/cuda_gpu_executor.cc:981] successful NUMA node read from SysFS had negative value (-1), but there must be at least one NUMA node, so returning NUMA node zero\n",
      "2023-10-24 18:17:18.445194: I tensorflow/compiler/xla/stream_executor/cuda/cuda_gpu_executor.cc:981] successful NUMA node read from SysFS had negative value (-1), but there must be at least one NUMA node, so returning NUMA node zero\n",
      "2023-10-24 18:17:19.028908: I tensorflow/compiler/xla/stream_executor/cuda/cuda_gpu_executor.cc:981] successful NUMA node read from SysFS had negative value (-1), but there must be at least one NUMA node, so returning NUMA node zero\n",
      "2023-10-24 18:17:19.029273: I tensorflow/compiler/xla/stream_executor/cuda/cuda_gpu_executor.cc:981] successful NUMA node read from SysFS had negative value (-1), but there must be at least one NUMA node, so returning NUMA node zero\n",
      "2023-10-24 18:17:19.029364: I tensorflow/compiler/xla/stream_executor/cuda/cuda_gpu_executor.cc:981] successful NUMA node read from SysFS had negative value (-1), but there must be at least one NUMA node, so returning NUMA node zero\n",
      "2023-10-24 18:17:19.029557: I tensorflow/core/common_runtime/gpu/gpu_device.cc:1613] Created device /job:localhost/replica:0/task:0/device:GPU:0 with 10326 MB memory:  -> device: 0, name: NVIDIA TITAN V, pci bus id: 0000:01:00.0, compute capability: 7.0\n"
     ]
    }
   ],
   "source": [
    "from tensorcro import TensorCro, HarmonySearch, RandomSearch, MultipointCrossover\n",
    "\n",
    "# Define parameters:\n",
    "bounds = tf.convert_to_tensor([[-1, -0.5, 0, 0, 0], [0, 0, 1, 0.5, 1]], dtype=tf.float32)  # Upper and lower limits.\n",
    "# The reef shape (81 possible individuals):\n",
    "reef_shape = (9, 9)  # Reef shape, in this case, squared. 3 columns per substrate.\n",
    "# A custom CRO parameter:\n",
    "k = 2  # Number of larvae setting trials."
   ],
   "metadata": {
    "collapsed": false,
    "ExecuteTime": {
     "end_time": "2023-10-24T16:17:19.137118032Z",
     "start_time": "2023-10-24T16:17:18.015546370Z"
    }
   }
  },
  {
   "cell_type": "markdown",
   "source": [
    "# Define the CRO-SL substrates. <a name=\"substrates\"></a>\n",
    "\n",
    "The last thing to do is define the substrates. The substrates are the operators that will be used to create new larvae. The framework already has implemented a set of substrates, but you can define your own substrates.\n",
    "\n",
    "To define a substrate, you can look for your favourite and instance its class. The algorithms end up with ``Search`` while ``Crossover`` are general purpose crossover operators. Algorithms that make calls to the fitness function are not supported yet."
   ],
   "metadata": {
    "collapsed": false
   }
  },
  {
   "cell_type": "code",
   "execution_count": 4,
   "outputs": [],
   "source": [
    "# Substrate definition.\n",
    "harmony_search_substrate = HarmonySearch(bounds)  # Harmony Search algorithm used as a crossover method.\n",
    "random_search_substrate = RandomSearch(bounds)  # Random Search algorithm used as a crossover method.\n",
    "multipoint_crossover_substrate = MultipointCrossover([3])  # Multipoint Crossover algorithm used as a crossover method.\n",
    "substrates = [harmony_search_substrate, random_search_substrate, multipoint_crossover_substrate]  # List of substrates.\n",
    "# CRO instance.\n",
    "cro = TensorCro(reef_shape=reef_shape, subs=substrates, k=k)  # Initialize the CRO-SL algorithm."
   ],
   "metadata": {
    "collapsed": false,
    "ExecuteTime": {
     "end_time": "2023-10-24T16:17:19.190350790Z",
     "start_time": "2023-10-24T16:17:19.142030428Z"
    }
   }
  },
  {
   "cell_type": "markdown",
   "source": [
    "# Run the CRO-SL algorithm. <a name=\"fit\"></a>\n",
    "\n",
    "Now, we can run the algorithm. The algorithm will run until the maximum number of iterations is reached. The algorithm will return the current reef, sorted by fitness.\n",
    "\n",
    "To do so, you must call the fitness method. The fitness method has 3 main parameters, the fitness function, the maximum number of iterations and the parameter bounds.\n",
    "\n",
    "The fit method also has other 3 parameters. ``device`` tells the device that will run the fit method. In this case, we are using the GPU. To use a GPU you must have CUDA installed and a TensorFlow-compatible GPU. ``seed`` is the seed that will be used to initialize the random number generator, it is implemented to repeat the fit process in the same way, useful for research experiments. ``shards`` is an integer telling the algorithm to save the results each `shards` iterations. For example, if we are running 1000 iterations and shards are set to 100, each 100 iterations we will save the results. This is useful to run the algorithm in a cluster and save the results in case of a crash, and also for watching the evolution replay afterward.\n",
    "\n",
    "**You can also create your own initialization reef, so you can continue a fit process from a previous saved point!** Just specify a tuple with the reef and the fitness of the reef int the `init` parameter."
   ],
   "metadata": {
    "collapsed": false
   }
  },
  {
   "cell_type": "code",
   "execution_count": 8,
   "outputs": [
    {
     "name": "stdout",
     "output_type": "stream",
     "text": [
      "5/5 [==============================] - 4s 27ms/step - Best fitness: 2.4266\n",
      "5/5 [==============================] - 4s 29ms/step - Best fitness: 2.4389\n"
     ]
    },
    {
     "data": {
      "text/plain": "(<tf.Tensor: shape=(81, 5), dtype=float32, numpy=\n array([[ 0.        ,  0.        ,  1.        ,  0.5       ,  1.        ],\n        [ 0.        ,  0.        ,  1.        ,  0.5       ,  1.        ],\n        [ 0.        ,  0.        ,  1.        ,  0.5       ,  1.        ],\n        [ 0.        ,  0.        ,  1.        ,  0.5       ,  1.        ],\n        [ 0.        ,  0.        ,  1.        ,  0.5       ,  1.        ],\n        [ 0.        ,  0.        ,  1.        ,  0.5       ,  1.        ],\n        [ 0.        ,  0.        ,  1.        ,  0.5       ,  1.        ],\n        [ 0.        ,  0.        ,  1.        ,  0.5       ,  1.        ],\n        [ 0.        ,  0.        ,  1.        ,  0.5       ,  1.        ],\n        [ 0.        ,  0.        ,  1.        ,  0.5       ,  1.        ],\n        [ 0.        ,  0.        ,  1.        ,  0.5       ,  1.        ],\n        [ 0.        ,  0.        ,  1.        ,  0.5       ,  1.        ],\n        [ 0.        ,  0.        ,  1.        ,  0.5       ,  1.        ],\n        [ 0.        ,  0.        ,  1.        ,  0.5       ,  1.        ],\n        [ 0.        ,  0.        ,  1.        ,  0.5       ,  1.        ],\n        [ 0.        ,  0.        ,  1.        ,  0.5       ,  1.        ],\n        [ 0.        ,  0.        ,  1.        ,  0.5       ,  1.        ],\n        [ 0.        ,  0.        ,  1.        ,  0.5       ,  1.        ],\n        [ 0.        ,  0.        ,  1.        ,  0.5       ,  1.        ],\n        [ 0.        ,  0.        ,  1.        ,  0.5       ,  1.        ],\n        [ 0.        ,  0.        ,  1.        ,  0.5       ,  1.        ],\n        [ 0.        ,  0.        ,  1.        ,  0.5       ,  1.        ],\n        [ 0.        ,  0.        ,  1.        ,  0.5       ,  1.        ],\n        [ 0.        ,  0.        ,  1.        ,  0.5       ,  1.        ],\n        [ 0.        ,  0.        ,  1.        ,  0.5       ,  1.        ],\n        [ 0.        ,  0.        ,  1.        ,  0.5       ,  1.        ],\n        [ 0.        ,  0.        ,  1.        ,  0.5       ,  1.        ],\n        [ 0.        ,  0.        ,  1.        ,  0.5       ,  1.        ],\n        [ 0.        ,  0.        ,  1.        ,  0.5       ,  1.        ],\n        [ 0.        ,  0.        ,  1.        ,  0.5       ,  1.        ],\n        [ 0.        ,  0.        ,  1.        ,  0.5       ,  1.        ],\n        [ 0.        ,  0.        ,  1.        ,  0.5       ,  1.        ],\n        [ 0.        ,  0.        ,  1.        ,  0.5       ,  1.        ],\n        [ 0.        ,  0.        ,  1.        ,  0.5       ,  1.        ],\n        [ 0.        ,  0.        ,  1.        ,  0.5       ,  1.        ],\n        [ 0.        ,  0.        ,  1.        ,  0.5       ,  1.        ],\n        [ 0.        ,  0.        ,  1.        ,  0.5       ,  1.        ],\n        [ 0.        ,  0.        ,  1.        ,  0.5       ,  1.        ],\n        [ 0.        ,  0.        ,  1.        ,  0.5       ,  1.        ],\n        [ 0.        ,  0.        ,  1.        ,  0.5       ,  1.        ],\n        [ 0.        ,  0.        ,  1.        ,  0.5       ,  1.        ],\n        [ 0.        ,  0.        ,  1.        ,  0.5       ,  1.        ],\n        [ 0.        ,  0.        ,  1.        ,  0.5       ,  1.        ],\n        [ 0.        ,  0.        ,  1.        ,  0.5       ,  1.        ],\n        [ 0.        ,  0.        ,  1.        ,  0.5       ,  1.        ],\n        [ 0.        ,  0.        ,  1.        ,  0.5       ,  1.        ],\n        [ 0.        ,  0.        ,  1.        ,  0.5       ,  1.        ],\n        [ 0.        ,  0.        ,  1.        ,  0.5       ,  1.        ],\n        [ 0.        ,  0.        ,  1.        ,  0.5       ,  1.        ],\n        [ 0.        ,  0.        ,  1.        ,  0.5       ,  1.        ],\n        [ 0.        ,  0.        ,  1.        ,  0.5       ,  1.        ],\n        [ 0.        ,  0.        ,  1.        ,  0.5       ,  1.        ],\n        [ 0.        ,  0.        ,  1.        ,  0.5       ,  1.        ],\n        [ 0.        ,  0.        ,  1.        ,  0.5       ,  1.        ],\n        [ 0.        ,  0.        ,  1.        ,  0.5       ,  1.        ],\n        [ 0.        ,  0.        ,  1.        ,  0.5       ,  1.        ],\n        [ 0.        ,  0.        ,  1.        ,  0.5       ,  1.        ],\n        [ 0.        ,  0.        ,  1.        ,  0.5       ,  1.        ],\n        [ 0.        ,  0.        ,  1.        ,  0.5       ,  1.        ],\n        [ 0.        ,  0.        ,  1.        ,  0.5       ,  1.        ],\n        [ 0.        ,  0.        ,  1.        ,  0.5       ,  1.        ],\n        [ 0.        ,  0.        ,  1.        ,  0.5       ,  1.        ],\n        [ 0.        ,  0.        ,  1.        ,  0.5       ,  1.        ],\n        [ 0.        ,  0.        ,  1.        ,  0.5       ,  1.        ],\n        [ 0.        ,  0.        ,  1.        ,  0.5       ,  1.        ],\n        [ 0.        ,  0.        ,  1.        ,  0.5       ,  1.        ],\n        [ 0.        ,  0.        ,  1.        ,  0.5       ,  1.        ],\n        [ 0.        ,  0.        ,  1.        ,  0.5       ,  1.        ],\n        [ 0.        ,  0.        ,  1.        ,  0.5       ,  1.        ],\n        [ 0.        ,  0.        ,  1.        ,  0.5       ,  1.        ],\n        [ 0.        ,  0.        ,  1.        ,  0.5       ,  1.        ],\n        [ 0.        ,  0.        ,  1.        ,  0.49503133,  1.        ],\n        [-0.00274589,  0.        ,  1.        ,  0.4977382 ,  1.        ],\n        [ 0.        , -0.00310049,  0.9957413 ,  0.5       ,  1.        ],\n        [ 0.        ,  0.        ,  0.9898819 ,  0.49998528,  1.        ],\n        [-0.6491431 , -0.15795857,  0.15982187,  0.46652424,  0.6219126 ],\n        [ 0.        ,  0.        ,  1.        ,  0.5       ,  1.        ],\n        [ 0.        ,  0.        ,  1.        ,  0.5       ,  1.        ],\n        [ 0.        ,  0.        ,  1.        ,  0.5       ,  1.        ],\n        [ 0.        , -0.00462446,  1.        ,  0.5       ,  1.        ],\n        [ 0.        ,  0.        ,  1.        ,  0.5       ,  1.        ]],\n       dtype=float32)>,\n <tf.Tensor: shape=(81,), dtype=float32, numpy=\n array([2.5       , 2.5       , 2.5       , 2.5       , 2.5       ,\n        2.5       , 2.5       , 2.5       , 2.5       , 2.5       ,\n        2.5       , 2.5       , 2.5       , 2.5       , 2.5       ,\n        2.5       , 2.5       , 2.5       , 2.5       , 2.5       ,\n        2.5       , 2.5       , 2.5       , 2.5       , 2.5       ,\n        2.5       , 2.5       , 2.5       , 2.5       , 2.5       ,\n        2.5       , 2.5       , 2.5       , 2.5       , 2.5       ,\n        2.5       , 2.5       , 2.5       , 2.5       , 2.5       ,\n        2.5       , 2.5       , 2.5       , 2.5       , 2.5       ,\n        2.5       , 2.5       , 2.5       , 2.5       , 2.5       ,\n        2.5       , 2.5       , 2.5       , 2.5       , 2.5       ,\n        2.5       , 2.5       , 2.5       , 2.5       , 2.5       ,\n        2.5       , 2.5       , 2.5       , 2.5       , 2.5       ,\n        2.5       , 2.5       , 2.5       , 2.5       , 2.5       ,\n        2.5       , 2.4950314 , 2.4949923 , 2.492641  , 2.4898672 ,\n        0.44115704,       -inf,       -inf,       -inf,       -inf,\n              -inf], dtype=float32)>)"
     },
     "execution_count": 8,
     "metadata": {},
     "output_type": "execute_result"
    }
   ],
   "source": [
    "# Initial reef, if provided:\n",
    "initial_reef = tf.zeros((9, 9, 5), dtype=tf.float32)\n",
    "initial_fitness = fitness_function(initial_reef)\n",
    "# Fit method.\n",
    "cro.fit(fitness_function, bounds, max_iter=50, device='/CPU:0', seed=0, shards=5, init=(initial_reef, initial_fitness), tf_compile=True)  # Run the algorithm."
   ],
   "metadata": {
    "collapsed": false,
    "ExecuteTime": {
     "end_time": "2023-10-24T16:18:02.655584627Z",
     "start_time": "2023-10-24T16:17:58.851307623Z"
    }
   }
  },
  {
   "cell_type": "markdown",
   "source": [
    "Specify `tf_compile = False` when your fitness function cannot be implemented in GPU but you still want to use this framework.\n",
    "\n",
    "# Watch the evolution replay. <a name=\"replay\"></a>\n",
    "\n",
    "Once we selected an optimal number of iterations, we can watch the evolution replay. The evolution replay is watched though a Tkinter GUI. The parameters to launch the GUI are:\n",
    "\n",
    "- ``path: str``: Path of the replay.\n",
    "- ``mp: bool``: Launch the GUI in a different process.\n",
    "- ``lock: bool``: Waits the GUI to be closed to continue the program.\n",
    "\n",
    "For that we can save the last fit launched in the path we want with the `save_replay` method, but we are not going to use it in this tutorial. If you want to watch the last replay, you can omit the `path` parameter."
   ],
   "metadata": {
    "collapsed": false
   }
  },
  {
   "cell_type": "code",
   "execution_count": 9,
   "outputs": [
    {
     "data": {
      "text/plain": "<Process name='Process-1' pid=5235 parent=4652 started>"
     },
     "execution_count": 9,
     "metadata": {},
     "output_type": "execute_result"
    }
   ],
   "source": [
    "cro.watch_replay()"
   ],
   "metadata": {
    "collapsed": false,
    "ExecuteTime": {
     "end_time": "2023-10-24T16:18:09.584398955Z",
     "start_time": "2023-10-24T16:18:09.561803760Z"
    }
   }
  },
  {
   "cell_type": "markdown",
   "source": [
    "# Building new substrates. <a name=\"substrates\"></a>\n",
    "\n",
    "The framework already has implemented a set of substrates, but you can define your own substrates. To define a substrate, you can implement your substrate from zero or use the ``ComposedSubstrate`` class to define a sequential set of substrates. For example, we implement the genetic algorithm as a sequential of `MultiPointCrossover` and `Mutation` substrates."
   ],
   "metadata": {
    "collapsed": false
   }
  },
  {
   "cell_type": "code",
   "execution_count": 10,
   "outputs": [],
   "source": [
    "from tensorcro import ComposedSubstrate, Mutation\n",
    "\n",
    "genetic_algorithm = ComposedSubstrate(MultipointCrossover([3]), Mutation('gaussian', stddev=0.1), name='GeneticAlgorithm')"
   ],
   "metadata": {
    "collapsed": false,
    "ExecuteTime": {
     "end_time": "2023-10-24T16:18:18.332937037Z",
     "start_time": "2023-10-24T16:18:18.325288947Z"
    }
   }
  },
  {
   "cell_type": "markdown",
   "source": [
    "We can also implement the genetic algorithm as a new substrate using the class ``Substrate``. You must implement a method called `_call` that takes a list of larvae to be crossed and returns a list of larvae crossed. The ``Substrate`` class has a method called `__call__` that calls the `_call` method and returns the crossed larvae. \n",
    "\n",
    "Recall that directives is a parameter with the minimum and maximum value specifications for each parameter, of shape (2, ndims). **All algorithms are responsible for dealing with their solutions in the specified range. TensorCRO will autoclip the values after the new population is given. This means that the user must deal with overflow and domain issues.**\n",
    "*DON'T FORGET KWARGS IN _CALL METHOD*"
   ],
   "metadata": {
    "collapsed": false
   }
  },
  {
   "cell_type": "code",
   "execution_count": 11,
   "outputs": [],
   "source": [
    "from tensorcro.substrates import CROSubstrate\n",
    "\n",
    "class GeneticAlgorithm(CROSubstrate):\n",
    "    def __init__(self, directives, crossover_points: list[int], mutation_stddev: float):\n",
    "        self.directives = directives\n",
    "        self.crossover_points = crossover_points\n",
    "        self.mutation_stddev = mutation_stddev\n",
    "\n",
    "    def _call(self, individuals: tf.Tensor, **kwargs) -> tf.Tensor:\n",
    "        # Use your TensorFlow implementation, I will use the pre-defined classes.\n",
    "        return Mutation('gaussian', stddev=self.mutation_stddev)(MultipointCrossover(self.crossover_points)(individuals))"
   ],
   "metadata": {
    "collapsed": false,
    "ExecuteTime": {
     "end_time": "2023-10-24T16:18:20.250366546Z",
     "start_time": "2023-10-24T16:18:20.216134502Z"
    }
   }
  },
  {
   "cell_type": "markdown",
   "source": [
    "In 2.0, we can now create a substrate for stateful optimization algorithms. This is so for `PSO` and `SimulatedAnnealing` algorithms that must store registers of speed, local best or fitness values. \n",
    "\n",
    "To do so, we must implement the `CROSubstrate` as we did before, but we must add the shape attribute. \n",
    "\n",
    "First, we have to precompute the size of our substrate in this specific problem. Imagine we are implementing `SimulatedAnnealing` algorithm with a random search in a 10x20 reef. The first substrate will have a 10x10 grid, while the other will have the same size.\n",
    "\n",
    "The substrate reef is computed as follows:\n",
    "```python\n",
    "substrate_reef = (number_of_rows, number_of_columns // number_of_substrates)\n",
    "```\n",
    "\n",
    "**IMPORTANT:**\n",
    "All attributes used in `_call()` must be a `tf.Variable`. This means that we must specify the initial value in the constructor, and it is the reason of pre-computing the substrate shape in prior."
   ],
   "metadata": {
    "collapsed": false
   }
  },
  {
   "cell_type": "code",
   "execution_count": 12,
   "outputs": [],
   "source": [
    "reef_shape = (10, 20)\n",
    "substrate_shape = (10, 10)"
   ],
   "metadata": {
    "collapsed": false,
    "ExecuteTime": {
     "end_time": "2023-10-24T16:18:22.606620880Z",
     "start_time": "2023-10-24T16:18:22.585646594Z"
    }
   }
  },
  {
   "cell_type": "markdown",
   "source": [
    "In this example, I will implement `MyStatefuleAlgorithm` that will increase by x% the input values in population. x% starts with 1%, but it is increased by 1% every time a coral is alive on the position. The algorithm is implemented as follows:\n",
    "\n",
    "1. Get the positions of the given individuals.\n",
    "2. Get the current increment values of the current positions.\n",
    "3. Multiply the individuals by the increments.\n",
    "4. Update the increments by 1%, only in the used positions.\n",
    "5. Return the multiplied individuals."
   ],
   "metadata": {
    "collapsed": false
   }
  },
  {
   "cell_type": "code",
   "execution_count": 13,
   "outputs": [],
   "source": [
    "from tensorcro.substrates import CROSubstrate\n",
    "\n",
    "class MyStatefulAlgorithm(CROSubstrate):\n",
    "    def __init__(self, directives: tf.Tensor, shape: tuple):\n",
    "        \"\"\"\n",
    "        This algorithm increments by +1% the individuals given each iteration.\n",
    "        :param directives: The minimum and maximum for each parameter.\n",
    "        :param shape: The shape of the substrate reef.\n",
    "        \"\"\"\n",
    "        self.directives = tf.constant(directives, dtype=tf.float32)\n",
    "        initial_value = tf.ones(shape) * 1.01\n",
    "        self.increment = tf.Variable(initial_value=initial_value, dtype=tf.float32)\n",
    "\n",
    "    def _call(self, individuals: tf.Tensor, **kwargs) -> tf.Tensor:\n",
    "        # Get alive corals in the substrate:\n",
    "        coral_idx = kwargs['ids']\n",
    "        # Get the reef:\n",
    "        increments = tf.gather_nd(self.increment, coral_idx)\n",
    "        # Increment the individuals:\n",
    "        incremented = individuals * increments\n",
    "        # Update the increment variable by 1:\n",
    "        new_increments = tf.tensor_scatter_nd_update(self.increment, coral_idx, increments + 0.01)\n",
    "        self.increment.assign(new_increments)\n",
    "        # Return the incremented individuals:\n",
    "        return incremented\n",
    "    \n",
    "algorithm = MyStatefulAlgorithm(directives=bounds, shape=substrate_shape)"
   ],
   "metadata": {
    "collapsed": false,
    "ExecuteTime": {
     "end_time": "2023-10-24T16:18:24.076081380Z",
     "start_time": "2023-10-24T16:18:24.068576703Z"
    }
   }
  },
  {
   "cell_type": "markdown",
   "source": [
    "Note that `**kwargs` have 2 attributes in case the user needs them:\n",
    "\n",
    "- `ids`: The positions of the individuals in the reef.\n",
    "- `fitness`: The fitness of the individuals."
   ],
   "metadata": {
    "collapsed": false
   }
  },
  {
   "cell_type": "markdown",
   "source": [
    "## Connecting to SlackBot. <a name=\"slackbot\"></a>\n",
    "\n",
    "You can connect the algorithm to a SlackBot to watch the evolution of the algorithm in real-time. To do so, you must create a SlackBot and get the token. You can follow the instructions here to create a SlackBot: https://api.slack.com/bot-users. After creating a bot and inviting him to your channel, you will have a `BOT-TOKEN`.\n",
    "\n",
    "In this case we will use `TensorCRO-Bot`. To use it, you need to import the `SlackCallback` class from the package. Then, you must create a `SlackCallback` instance with the token of your SlackBot. Finally, you must pass the callback to the `fit` method. You can also use `exception_handler()` and `end()` methods to send messages to SlackBot.\n",
    "\n",
    "* `exception_handler()` will send a message with the exception raised by the code, a fitness plot and a backup of the last seen population.\n",
    "* `end()` will send a message with the solution of the algorithm, a fitness plot and a backup of the last seen population.\n",
    "\n",
    "After that code, you will receive 5 type of messages:\n",
    "\n",
    "1. On run:\n",
    "    -  A message with the simulation status.\n",
    "    -  A fitness plot.\n",
    "2. On exception:\n",
    "    -  A message with the exception raised by the code.\n",
    "    -  A fitness plot.\n",
    "    -  A backup of the last seen population as a np.array.\n",
    "3. On finish:\n",
    "    -  A message with the finish status.\n",
    "    -  A fitness plot.\n",
    "    -  The solution of the algorithm as a np.array."
   ],
   "metadata": {
    "collapsed": false
   }
  },
  {
   "cell_type": "code",
   "execution_count": 1,
   "outputs": [
    {
     "name": "stderr",
     "output_type": "stream",
     "text": [
      "2023-10-25 18:19:50.124657: I tensorflow/core/platform/cpu_feature_guard.cc:193] This TensorFlow binary is optimized with oneAPI Deep Neural Network Library (oneDNN) to use the following CPU instructions in performance-critical operations:  AVX2 FMA\n",
      "To enable them in other operations, rebuild TensorFlow with the appropriate compiler flags.\n",
      "2023-10-25 18:19:50.661843: W tensorflow/compiler/xla/stream_executor/platform/default/dso_loader.cc:64] Could not load dynamic library 'libnvinfer.so.7'; dlerror: libnvinfer.so.7: cannot open shared object file: No such file or directory\n",
      "2023-10-25 18:19:50.661886: W tensorflow/compiler/xla/stream_executor/platform/default/dso_loader.cc:64] Could not load dynamic library 'libnvinfer_plugin.so.7'; dlerror: libnvinfer_plugin.so.7: cannot open shared object file: No such file or directory\n",
      "2023-10-25 18:19:50.661892: W tensorflow/compiler/tf2tensorrt/utils/py_utils.cc:38] TF-TRT Warning: Cannot dlopen some TensorRT libraries. If you would like to use Nvidia GPU with TensorRT, please make sure the missing libraries mentioned above are installed properly.\n",
      "2023-10-25 18:19:51.575182: I tensorflow/compiler/xla/stream_executor/cuda/cuda_gpu_executor.cc:981] successful NUMA node read from SysFS had negative value (-1), but there must be at least one NUMA node, so returning NUMA node zero\n",
      "2023-10-25 18:19:51.613651: I tensorflow/compiler/xla/stream_executor/cuda/cuda_gpu_executor.cc:981] successful NUMA node read from SysFS had negative value (-1), but there must be at least one NUMA node, so returning NUMA node zero\n",
      "2023-10-25 18:19:51.613777: I tensorflow/compiler/xla/stream_executor/cuda/cuda_gpu_executor.cc:981] successful NUMA node read from SysFS had negative value (-1), but there must be at least one NUMA node, so returning NUMA node zero\n",
      "2023-10-25 18:19:51.614367: I tensorflow/core/platform/cpu_feature_guard.cc:193] This TensorFlow binary is optimized with oneAPI Deep Neural Network Library (oneDNN) to use the following CPU instructions in performance-critical operations:  AVX2 FMA\n",
      "To enable them in other operations, rebuild TensorFlow with the appropriate compiler flags.\n",
      "2023-10-25 18:19:51.614846: I tensorflow/compiler/xla/stream_executor/cuda/cuda_gpu_executor.cc:981] successful NUMA node read from SysFS had negative value (-1), but there must be at least one NUMA node, so returning NUMA node zero\n",
      "2023-10-25 18:19:51.614946: I tensorflow/compiler/xla/stream_executor/cuda/cuda_gpu_executor.cc:981] successful NUMA node read from SysFS had negative value (-1), but there must be at least one NUMA node, so returning NUMA node zero\n",
      "2023-10-25 18:19:51.615031: I tensorflow/compiler/xla/stream_executor/cuda/cuda_gpu_executor.cc:981] successful NUMA node read from SysFS had negative value (-1), but there must be at least one NUMA node, so returning NUMA node zero\n",
      "2023-10-25 18:19:51.993077: I tensorflow/compiler/xla/stream_executor/cuda/cuda_gpu_executor.cc:981] successful NUMA node read from SysFS had negative value (-1), but there must be at least one NUMA node, so returning NUMA node zero\n",
      "2023-10-25 18:19:51.993218: I tensorflow/compiler/xla/stream_executor/cuda/cuda_gpu_executor.cc:981] successful NUMA node read from SysFS had negative value (-1), but there must be at least one NUMA node, so returning NUMA node zero\n",
      "2023-10-25 18:19:51.993317: I tensorflow/compiler/xla/stream_executor/cuda/cuda_gpu_executor.cc:981] successful NUMA node read from SysFS had negative value (-1), but there must be at least one NUMA node, so returning NUMA node zero\n",
      "2023-10-25 18:19:51.993405: I tensorflow/core/common_runtime/gpu/gpu_device.cc:1613] Created device /job:localhost/replica:0/task:0/device:GPU:0 with 10242 MB memory:  -> device: 0, name: NVIDIA TITAN V, pci bus id: 0000:01:00.0, compute capability: 7.0\n",
      "ERROR:root:[SlackBot] Error fetching users: The request to the Slack API failed.\n",
      "The server responded with: {'ok': False, 'error': 'invalid_auth'}\n"
     ]
    },
    {
     "ename": "TypeError",
     "evalue": "unsupported operand type(s) for /: 'int' and 'NoneType'",
     "output_type": "error",
     "traceback": [
      "\u001B[0;31m---------------------------------------------------------------------------\u001B[0m",
      "\u001B[0;31mNameError\u001B[0m                                 Traceback (most recent call last)",
      "Cell \u001B[0;32mIn[1], line 6\u001B[0m\n\u001B[1;32m      5\u001B[0m \u001B[38;5;28;01mtry\u001B[39;00m:\n\u001B[0;32m----> 6\u001B[0m     best \u001B[38;5;241m=\u001B[39m \u001B[43mcro\u001B[49m\u001B[38;5;241m.\u001B[39mfit(fitness_function, bounds, max_iter\u001B[38;5;241m=\u001B[39m\u001B[38;5;241m50\u001B[39m, device\u001B[38;5;241m=\u001B[39m\u001B[38;5;124m'\u001B[39m\u001B[38;5;124m/CPU:0\u001B[39m\u001B[38;5;124m'\u001B[39m, seed\u001B[38;5;241m=\u001B[39m\u001B[38;5;241m0\u001B[39m, shards\u001B[38;5;241m=\u001B[39m\u001B[38;5;241m5\u001B[39m, callback\u001B[38;5;241m=\u001B[39mslack_callback)\n\u001B[1;32m      7\u001B[0m     slack_callback\u001B[38;5;241m.\u001B[39mend(best[\u001B[38;5;241m0\u001B[39m]\u001B[38;5;241m.\u001B[39mnumpy())\n",
      "\u001B[0;31mNameError\u001B[0m: name 'cro' is not defined",
      "\nDuring handling of the above exception, another exception occurred:\n",
      "\u001B[0;31mTypeError\u001B[0m                                 Traceback (most recent call last)",
      "Cell \u001B[0;32mIn[1], line 9\u001B[0m\n\u001B[1;32m      7\u001B[0m     slack_callback\u001B[38;5;241m.\u001B[39mend(best[\u001B[38;5;241m0\u001B[39m]\u001B[38;5;241m.\u001B[39mnumpy())\n\u001B[1;32m      8\u001B[0m \u001B[38;5;28;01mexcept\u001B[39;00m \u001B[38;5;167;01mException\u001B[39;00m \u001B[38;5;28;01mas\u001B[39;00m e:\n\u001B[0;32m----> 9\u001B[0m     \u001B[43mslack_callback\u001B[49m\u001B[38;5;241;43m.\u001B[39;49m\u001B[43mexception_handler\u001B[49m\u001B[43m(\u001B[49m\u001B[43me\u001B[49m\u001B[43m)\u001B[49m\n",
      "File \u001B[0;32m~/Desktop/Projects/tensorcro/src/tensorcro/replay/slack_callback.py:91\u001B[0m, in \u001B[0;36mSlackCallback.exception_handler\u001B[0;34m(self, exception)\u001B[0m\n\u001B[1;32m     71\u001B[0m timestamp \u001B[38;5;241m=\u001B[39m time\u001B[38;5;241m.\u001B[39mstrftime(\u001B[38;5;124m'\u001B[39m\u001B[38;5;132;01m%d\u001B[39;00m\u001B[38;5;124m/\u001B[39m\u001B[38;5;124m%\u001B[39m\u001B[38;5;124mm/\u001B[39m\u001B[38;5;124m%\u001B[39m\u001B[38;5;124mY \u001B[39m\u001B[38;5;124m%\u001B[39m\u001B[38;5;124mH:\u001B[39m\u001B[38;5;124m%\u001B[39m\u001B[38;5;124mM:\u001B[39m\u001B[38;5;124m%\u001B[39m\u001B[38;5;124mS\u001B[39m\u001B[38;5;124m'\u001B[39m, time\u001B[38;5;241m.\u001B[39mlocaltime())\n\u001B[1;32m     72\u001B[0m \u001B[38;5;66;03m# Create block.\u001B[39;00m\n\u001B[1;32m     73\u001B[0m block \u001B[38;5;241m=\u001B[39m {\n\u001B[1;32m     74\u001B[0m     \u001B[38;5;124m\"\u001B[39m\u001B[38;5;124mblocks\u001B[39m\u001B[38;5;124m\"\u001B[39m: [\n\u001B[1;32m     75\u001B[0m         {\n\u001B[1;32m     76\u001B[0m             \u001B[38;5;124m\"\u001B[39m\u001B[38;5;124mtype\u001B[39m\u001B[38;5;124m\"\u001B[39m: \u001B[38;5;124m\"\u001B[39m\u001B[38;5;124msection\u001B[39m\u001B[38;5;124m\"\u001B[39m,\n\u001B[1;32m     77\u001B[0m             \u001B[38;5;124m\"\u001B[39m\u001B[38;5;124mtext\u001B[39m\u001B[38;5;124m\"\u001B[39m: {\n\u001B[1;32m     78\u001B[0m                 \u001B[38;5;124m\"\u001B[39m\u001B[38;5;124mtype\u001B[39m\u001B[38;5;124m\"\u001B[39m: \u001B[38;5;124m\"\u001B[39m\u001B[38;5;124mmrkdwn\u001B[39m\u001B[38;5;124m\"\u001B[39m,\n\u001B[1;32m     79\u001B[0m                 \u001B[38;5;124m\"\u001B[39m\u001B[38;5;124mtext\u001B[39m\u001B[38;5;124m\"\u001B[39m: \u001B[38;5;124mf\u001B[39m\u001B[38;5;124m\"\u001B[39m\u001B[38;5;130;01m\\n\u001B[39;00m\u001B[38;5;124m:warning::no_entry::warning::boom::warning::boom::warning::no_entry::warning:\u001B[39m\u001B[38;5;130;01m\\n\u001B[39;00m\u001B[38;5;124m\"\u001B[39m\n\u001B[1;32m     80\u001B[0m                         \u001B[38;5;124mf\u001B[39m\u001B[38;5;124m\"\u001B[39m\u001B[38;5;124m:coral:: *<@\u001B[39m\u001B[38;5;132;01m{\u001B[39;00m\u001B[38;5;28mself\u001B[39m\u001B[38;5;241m.\u001B[39musername\u001B[38;5;132;01m}\u001B[39;00m\u001B[38;5;124m>*, there was an error in your \u001B[39m\u001B[38;5;124m\"\u001B[39m\n\u001B[1;32m     81\u001B[0m                         \u001B[38;5;124mf\u001B[39m\u001B[38;5;124m\"\u001B[39m\u001B[38;5;124m`\u001B[39m\u001B[38;5;132;01m{\u001B[39;00m\u001B[38;5;28mself\u001B[39m\u001B[38;5;241m.\u001B[39msimulation_name\u001B[38;5;132;01m}\u001B[39;00m\u001B[38;5;124m` simulation.\u001B[39m\u001B[38;5;124m\"\u001B[39m\n\u001B[1;32m     82\u001B[0m             }\n\u001B[1;32m     83\u001B[0m         },\n\u001B[1;32m     84\u001B[0m         {\n\u001B[1;32m     85\u001B[0m             \u001B[38;5;124m\"\u001B[39m\u001B[38;5;124mtype\u001B[39m\u001B[38;5;124m\"\u001B[39m: \u001B[38;5;124m\"\u001B[39m\u001B[38;5;124msection\u001B[39m\u001B[38;5;124m\"\u001B[39m,\n\u001B[1;32m     86\u001B[0m             \u001B[38;5;124m\"\u001B[39m\u001B[38;5;124mfields\u001B[39m\u001B[38;5;124m\"\u001B[39m: [\n\u001B[1;32m     87\u001B[0m                 {\n\u001B[1;32m     88\u001B[0m                     \u001B[38;5;124m\"\u001B[39m\u001B[38;5;124mtype\u001B[39m\u001B[38;5;124m\"\u001B[39m: \u001B[38;5;124m\"\u001B[39m\u001B[38;5;124mmrkdwn\u001B[39m\u001B[38;5;124m\"\u001B[39m,\n\u001B[1;32m     89\u001B[0m                     \u001B[38;5;124m\"\u001B[39m\u001B[38;5;124mtext\u001B[39m\u001B[38;5;124m\"\u001B[39m: \u001B[38;5;124mf\u001B[39m\u001B[38;5;124m\"\u001B[39m\u001B[38;5;124m:cake: *Shards:*\u001B[39m\u001B[38;5;124m\"\u001B[39m\n\u001B[1;32m     90\u001B[0m                             \u001B[38;5;124mf\u001B[39m\u001B[38;5;124m\"\u001B[39m\u001B[38;5;130;01m\\n\u001B[39;00m\u001B[38;5;124m`\u001B[39m\u001B[38;5;132;01m{\u001B[39;00m\u001B[38;5;28mself\u001B[39m\u001B[38;5;241m.\u001B[39mcurrent_shard\u001B[38;5;132;01m}\u001B[39;00m\u001B[38;5;124m/\u001B[39m\u001B[38;5;132;01m{\u001B[39;00m\u001B[38;5;28mself\u001B[39m\u001B[38;5;241m.\u001B[39mmax_shards\u001B[38;5;132;01m}\u001B[39;00m\u001B[38;5;124m \u001B[39m\u001B[38;5;124m\"\u001B[39m\n\u001B[0;32m---> 91\u001B[0m                             \u001B[38;5;124mf\u001B[39m\u001B[38;5;124m\"\u001B[39m\u001B[38;5;124m(\u001B[39m\u001B[38;5;132;01m{\u001B[39;00m\u001B[38;5;241;43m100\u001B[39;49m\u001B[38;5;250;43m \u001B[39;49m\u001B[38;5;241;43m*\u001B[39;49m\u001B[38;5;250;43m \u001B[39;49m\u001B[38;5;28;43mself\u001B[39;49m\u001B[38;5;241;43m.\u001B[39;49m\u001B[43mcurrent_shard\u001B[49m\u001B[38;5;250;43m \u001B[39;49m\u001B[38;5;241;43m/\u001B[39;49m\u001B[38;5;250;43m \u001B[39;49m\u001B[38;5;28;43mself\u001B[39;49m\u001B[38;5;241;43m.\u001B[39;49m\u001B[43mmax_shards\u001B[49m\u001B[38;5;132;01m:\u001B[39;00m\u001B[38;5;124m.1f\u001B[39m\u001B[38;5;132;01m}\u001B[39;00m\u001B[38;5;124m%)` :warning:\u001B[39m\u001B[38;5;124m\"\u001B[39m\n\u001B[1;32m     92\u001B[0m                 },\n\u001B[1;32m     93\u001B[0m                 {\n\u001B[1;32m     94\u001B[0m                     \u001B[38;5;124m\"\u001B[39m\u001B[38;5;124mtype\u001B[39m\u001B[38;5;124m\"\u001B[39m: \u001B[38;5;124m\"\u001B[39m\u001B[38;5;124mmrkdwn\u001B[39m\u001B[38;5;124m\"\u001B[39m,\n\u001B[1;32m     95\u001B[0m                     \u001B[38;5;124m\"\u001B[39m\u001B[38;5;124mtext\u001B[39m\u001B[38;5;124m\"\u001B[39m: \u001B[38;5;124m\"\u001B[39m\u001B[38;5;124m:clock9:*Timestamp:*\u001B[39m\u001B[38;5;130;01m\\n\u001B[39;00m\u001B[38;5;124m\"\u001B[39m\n\u001B[1;32m     96\u001B[0m                             \u001B[38;5;124mf\u001B[39m\u001B[38;5;124m\"\u001B[39m\u001B[38;5;124m`\u001B[39m\u001B[38;5;132;01m{\u001B[39;00mtimestamp\u001B[38;5;132;01m}\u001B[39;00m\u001B[38;5;124m`\u001B[39m\u001B[38;5;124m\"\u001B[39m\n\u001B[1;32m     97\u001B[0m                 },\n\u001B[1;32m     98\u001B[0m                 {\n\u001B[1;32m     99\u001B[0m                     \u001B[38;5;124m\"\u001B[39m\u001B[38;5;124mtype\u001B[39m\u001B[38;5;124m\"\u001B[39m: \u001B[38;5;124m\"\u001B[39m\u001B[38;5;124mmrkdwn\u001B[39m\u001B[38;5;124m\"\u001B[39m,\n\u001B[1;32m    100\u001B[0m                     \u001B[38;5;124m\"\u001B[39m\u001B[38;5;124mtext\u001B[39m\u001B[38;5;124m\"\u001B[39m: \u001B[38;5;124mf\u001B[39m\u001B[38;5;124m\"\u001B[39m\u001B[38;5;124m:trophy: *Best fitness:*\u001B[39m\u001B[38;5;130;01m\\n\u001B[39;00m\u001B[38;5;124m`\u001B[39m\u001B[38;5;132;01m{\u001B[39;00m\u001B[38;5;28mself\u001B[39m\u001B[38;5;241m.\u001B[39mbest_fitness\u001B[38;5;250m \u001B[39m\u001B[38;5;132;01m:\u001B[39;00m\u001B[38;5;124m.3f\u001B[39m\u001B[38;5;132;01m}\u001B[39;00m\u001B[38;5;124m`\u001B[39m\u001B[38;5;124m\"\u001B[39m\n\u001B[1;32m    101\u001B[0m                 },\n\u001B[1;32m    102\u001B[0m                 {\n\u001B[1;32m    103\u001B[0m                     \u001B[38;5;124m\"\u001B[39m\u001B[38;5;124mtype\u001B[39m\u001B[38;5;124m\"\u001B[39m: \u001B[38;5;124m\"\u001B[39m\u001B[38;5;124mmrkdwn\u001B[39m\u001B[38;5;124m\"\u001B[39m,\n\u001B[1;32m    104\u001B[0m                     \u001B[38;5;124m\"\u001B[39m\u001B[38;5;124mtext\u001B[39m\u001B[38;5;124m\"\u001B[39m: \u001B[38;5;124mf\u001B[39m\u001B[38;5;124m\"\u001B[39m\u001B[38;5;124m:telescope: *Error found:*\u001B[39m\u001B[38;5;130;01m\\n\u001B[39;00m\u001B[38;5;124m`In shard \u001B[39m\u001B[38;5;132;01m{\u001B[39;00m\u001B[38;5;28mself\u001B[39m\u001B[38;5;241m.\u001B[39mcurrent_shard\u001B[38;5;250m \u001B[39m\u001B[38;5;241m+\u001B[39m\u001B[38;5;250m \u001B[39m\u001B[38;5;241m1\u001B[39m\u001B[38;5;132;01m}\u001B[39;00m\u001B[38;5;124m`\u001B[39m\u001B[38;5;124m\"\u001B[39m\n\u001B[1;32m    105\u001B[0m                 }\n\u001B[1;32m    106\u001B[0m             ]\n\u001B[1;32m    107\u001B[0m         },\n\u001B[1;32m    108\u001B[0m         {\n\u001B[1;32m    109\u001B[0m             \u001B[38;5;124m\"\u001B[39m\u001B[38;5;124mtype\u001B[39m\u001B[38;5;124m\"\u001B[39m: \u001B[38;5;124m\"\u001B[39m\u001B[38;5;124msection\u001B[39m\u001B[38;5;124m\"\u001B[39m,\n\u001B[1;32m    110\u001B[0m             \u001B[38;5;124m\"\u001B[39m\u001B[38;5;124mtext\u001B[39m\u001B[38;5;124m\"\u001B[39m: {\n\u001B[1;32m    111\u001B[0m                 \u001B[38;5;124m\"\u001B[39m\u001B[38;5;124mtype\u001B[39m\u001B[38;5;124m\"\u001B[39m: \u001B[38;5;124m\"\u001B[39m\u001B[38;5;124mmrkdwn\u001B[39m\u001B[38;5;124m\"\u001B[39m,\n\u001B[1;32m    112\u001B[0m                 \u001B[38;5;124m\"\u001B[39m\u001B[38;5;124mtext\u001B[39m\u001B[38;5;124m\"\u001B[39m: \u001B[38;5;124m\"\u001B[39m\u001B[38;5;124m:alarm_clock: *Elapsed time*:\u001B[39m\u001B[38;5;124m\"\u001B[39m\n\u001B[1;32m    113\u001B[0m             },\n\u001B[1;32m    114\u001B[0m             \u001B[38;5;124m\"\u001B[39m\u001B[38;5;124mfields\u001B[39m\u001B[38;5;124m\"\u001B[39m: [\n\u001B[1;32m    115\u001B[0m                 {\n\u001B[1;32m    116\u001B[0m                     \u001B[38;5;124m\"\u001B[39m\u001B[38;5;124mtype\u001B[39m\u001B[38;5;124m\"\u001B[39m: \u001B[38;5;124m\"\u001B[39m\u001B[38;5;124mmrkdwn\u001B[39m\u001B[38;5;124m\"\u001B[39m,\n\u001B[1;32m    117\u001B[0m                     \u001B[38;5;124m\"\u001B[39m\u001B[38;5;124mtext\u001B[39m\u001B[38;5;124m\"\u001B[39m: \u001B[38;5;124mf\u001B[39m\u001B[38;5;124m\"\u001B[39m\u001B[38;5;124m*Days:* \u001B[39m\u001B[38;5;132;01m{\u001B[39;00melapsed_time_days\u001B[38;5;132;01m}\u001B[39;00m\u001B[38;5;124m\"\u001B[39m\n\u001B[1;32m    118\u001B[0m                 },\n\u001B[1;32m    119\u001B[0m                 {\n\u001B[1;32m    120\u001B[0m                     \u001B[38;5;124m\"\u001B[39m\u001B[38;5;124mtype\u001B[39m\u001B[38;5;124m\"\u001B[39m: \u001B[38;5;124m\"\u001B[39m\u001B[38;5;124mmrkdwn\u001B[39m\u001B[38;5;124m\"\u001B[39m,\n\u001B[1;32m    121\u001B[0m                     \u001B[38;5;124m\"\u001B[39m\u001B[38;5;124mtext\u001B[39m\u001B[38;5;124m\"\u001B[39m: \u001B[38;5;124mf\u001B[39m\u001B[38;5;124m\"\u001B[39m\u001B[38;5;124m*Minutes:* \u001B[39m\u001B[38;5;132;01m{\u001B[39;00melapsed_time_mins\u001B[38;5;132;01m}\u001B[39;00m\u001B[38;5;124m\"\u001B[39m\n\u001B[1;32m    122\u001B[0m                 },\n\u001B[1;32m    123\u001B[0m                 {\n\u001B[1;32m    124\u001B[0m                     \u001B[38;5;124m\"\u001B[39m\u001B[38;5;124mtype\u001B[39m\u001B[38;5;124m\"\u001B[39m: \u001B[38;5;124m\"\u001B[39m\u001B[38;5;124mmrkdwn\u001B[39m\u001B[38;5;124m\"\u001B[39m,\n\u001B[1;32m    125\u001B[0m                     \u001B[38;5;124m\"\u001B[39m\u001B[38;5;124mtext\u001B[39m\u001B[38;5;124m\"\u001B[39m: \u001B[38;5;124mf\u001B[39m\u001B[38;5;124m\"\u001B[39m\u001B[38;5;124m*Hours:* \u001B[39m\u001B[38;5;132;01m{\u001B[39;00melapsed_time_hrs\u001B[38;5;132;01m}\u001B[39;00m\u001B[38;5;124m\"\u001B[39m\n\u001B[1;32m    126\u001B[0m                 },\n\u001B[1;32m    127\u001B[0m                 {\n\u001B[1;32m    128\u001B[0m                     \u001B[38;5;124m\"\u001B[39m\u001B[38;5;124mtype\u001B[39m\u001B[38;5;124m\"\u001B[39m: \u001B[38;5;124m\"\u001B[39m\u001B[38;5;124mmrkdwn\u001B[39m\u001B[38;5;124m\"\u001B[39m,\n\u001B[1;32m    129\u001B[0m                     \u001B[38;5;124m\"\u001B[39m\u001B[38;5;124mtext\u001B[39m\u001B[38;5;124m\"\u001B[39m: \u001B[38;5;124mf\u001B[39m\u001B[38;5;124m\"\u001B[39m\u001B[38;5;124m*Seconds:* \u001B[39m\u001B[38;5;132;01m{\u001B[39;00melapsed_time_secs\u001B[38;5;132;01m:\u001B[39;00m\u001B[38;5;124m.2f\u001B[39m\u001B[38;5;132;01m}\u001B[39;00m\u001B[38;5;124m\"\u001B[39m\n\u001B[1;32m    130\u001B[0m                 }\n\u001B[1;32m    131\u001B[0m             ]\n\u001B[1;32m    132\u001B[0m         },\n\u001B[1;32m    133\u001B[0m         {\n\u001B[1;32m    134\u001B[0m             \u001B[38;5;124m\"\u001B[39m\u001B[38;5;124mtype\u001B[39m\u001B[38;5;124m\"\u001B[39m: \u001B[38;5;124m\"\u001B[39m\u001B[38;5;124msection\u001B[39m\u001B[38;5;124m\"\u001B[39m,\n\u001B[1;32m    135\u001B[0m             \u001B[38;5;124m\"\u001B[39m\u001B[38;5;124mtext\u001B[39m\u001B[38;5;124m\"\u001B[39m: {\n\u001B[1;32m    136\u001B[0m                 \u001B[38;5;124m\"\u001B[39m\u001B[38;5;124mtype\u001B[39m\u001B[38;5;124m\"\u001B[39m: \u001B[38;5;124m\"\u001B[39m\u001B[38;5;124mmrkdwn\u001B[39m\u001B[38;5;124m\"\u001B[39m,\n\u001B[1;32m    137\u001B[0m                 \u001B[38;5;124m\"\u001B[39m\u001B[38;5;124mtext\u001B[39m\u001B[38;5;124m\"\u001B[39m: \u001B[38;5;124mf\u001B[39m\u001B[38;5;124m'\u001B[39m\u001B[38;5;124m*Exception raised*:\u001B[39m\u001B[38;5;130;01m\\n\u001B[39;00m\u001B[38;5;124m```\u001B[39m\u001B[38;5;132;01m{\u001B[39;00mexception\u001B[38;5;132;01m}\u001B[39;00m\u001B[38;5;124m```\u001B[39m\u001B[38;5;130;01m\\n\u001B[39;00m\u001B[38;5;124m'\u001B[39m\n\u001B[1;32m    138\u001B[0m                         \u001B[38;5;124mf\u001B[39m\u001B[38;5;124m'\u001B[39m\u001B[38;5;124m:warning::no_entry::warning::boom::warning::boom::warning::no_entry::warning:\u001B[39m\u001B[38;5;124m'\u001B[39m\n\u001B[1;32m    139\u001B[0m             }\n\u001B[1;32m    140\u001B[0m         }\n\u001B[1;32m    141\u001B[0m     ]\n\u001B[1;32m    142\u001B[0m }\n\u001B[1;32m    143\u001B[0m \u001B[38;5;28;01mtry\u001B[39;00m:\n\u001B[1;32m    144\u001B[0m     \u001B[38;5;66;03m# Send message to slack.\u001B[39;00m\n\u001B[1;32m    145\u001B[0m     np\u001B[38;5;241m.\u001B[39msave(\u001B[38;5;124m'\u001B[39m\u001B[38;5;124m./best_tmp.npy\u001B[39m\u001B[38;5;124m'\u001B[39m, \u001B[38;5;28mself\u001B[39m\u001B[38;5;241m.\u001B[39mlast_best_pop)\n",
      "\u001B[0;31mTypeError\u001B[0m: unsupported operand type(s) for /: 'int' and 'NoneType'"
     ]
    }
   ],
   "source": [
    "from tensorcro import SlackCallback\n",
    "# Set up the callback:\n",
    "slack_callback = SlackCallback(bot_token='<YOUR-BOT-TOKEN>', channel='<YOUR-CHANNEL>', username='<YOUR-SLACK-DISPLAY-NAME>', simulation_name='<A-NAME-FOR-YOUR-SIMULATION>')\n",
    "# Run the algorithm:\n",
    "try:\n",
    "    best = cro.fit(fitness_function, bounds, max_iter=50, device='/CPU:0', seed=0, shards=5, callback=slack_callback)\n",
    "    slack_callback.end(best[0].numpy())\n",
    "except Exception as e:\n",
    "    slack_callback.exception_handler(e)"
   ],
   "metadata": {
    "collapsed": false,
    "ExecuteTime": {
     "end_time": "2023-10-25T16:19:52.789565290Z",
     "start_time": "2023-10-25T16:19:50.086062635Z"
    }
   }
  },
  {
   "cell_type": "markdown",
   "source": [
    "All done! Good job!"
   ],
   "metadata": {
    "collapsed": false
   }
  }
 ],
 "metadata": {
  "kernelspec": {
   "display_name": "Python 3",
   "language": "python",
   "name": "python3"
  },
  "language_info": {
   "codemirror_mode": {
    "name": "ipython",
    "version": 2
   },
   "file_extension": ".py",
   "mimetype": "text/x-python",
   "name": "python",
   "nbconvert_exporter": "python",
   "pygments_lexer": "ipython2",
   "version": "2.7.6"
  }
 },
 "nbformat": 4,
 "nbformat_minor": 0
}
