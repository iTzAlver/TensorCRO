{
 "cells": [
  {
   "cell_type": "markdown",
   "source": [
    "# TensorCRO tutorial: Max Ones.\n",
    "\n",
    "The CRO-SL algorithm is a general-purpose algorithm for finding the maximum of a function. It is a stochastic algorithm, which means that it is not guaranteed to find the global maximum, but it is guaranteed to find a local maximum. The algorithm is based on the idea of the coral reefs reproduction and is guaranteed to find a local maximum if the function is convex, and it is likely to find the global maximum if the selected operators are good enough.\n",
    "\n",
    "The algorithm is implemented in the TensorCRO library, which is a Python library for the CRO-SL algorithm.\n",
    "\n",
    "To implement a CRO-SL algorithm with TensorCRO library you must follow the following steps:\n",
    "\n",
    "1. [Understanding CRO-SL.](#understanding)\n",
    "2. [Define a fitness function to be MAXIMIZED.](#fitness)\n",
    "3. [Define the CRO-SL algorithm parameters.](#parameters)\n",
    "4. [Define the CRO-SL substrates.](#substrates)\n",
    "5. [Run the CRO-SL algorithm.](#fit)\n",
    "6. [Watch the replay.](#replay)\n",
    "7. [Building new substrates.](#new)"
   ],
   "metadata": {
    "collapsed": false
   }
  },
  {
   "cell_type": "markdown",
   "source": [
    "## Understanding CRO-SL. <a name=\"understanding\"></a>\n",
    "\n",
    "CRO-SL is a heuristic and bio-inspired algorithm that simulates the reproduction of coral reefs for parameter optimization. Figure shows the steps that the algorithm follows to find the maximum of a function.\n",
    "\n",
    "The problem solved can be defined a follows:\n",
    "\n",
    "\n",
    "```math\n",
    "Given a function f(x, y, z, ...) to be maximized, find the maximum value of f(x) and the corresponding x, y, z, ... parameters that maximize the function f.\n",
    "```\n",
    "\n",
    "In this tutorial, we will maximize 5 parameters that their sum must be maximized. The best result will be the parameters with the highest value possible. This is known as the Max Ones problem.\n",
    "\n",
    "The algorithm follows 5 steps:\n",
    "\n",
    "1. **Initialize the population**: The population is initialized with random values in the range of each parameter. Some of the initialized values may correspond to alive corals and others to dead corals. The portion of alive corals in the reef is defined by the ``rho`` parameter.\n",
    "2. **Broadcast spawning**: ``Fb`` portion of alive corals are selected to use crossover operators (known as ``substrates``). The selected corals are used to create new corals, known as larvae. Each substrate has its own parameters, and it must be defined previously by the user.\n",
    "3. **Select the best individuals**: ``1 - Fb`` portion of the alive corals are selected to experiment a Gaussian Mutation, with 1% of variance for each parameter. New larvae are created from the mutated corals.\n",
    "4. **Larvae setting**: The current larvae are set in the population. The larvae fight for random positions of the coral, if their fitness is better than the random position, the larvae replaces the random position. If the larvae is worse than the random position, the larvae is discarded. This step is repeated ``k`` times, and if the larvae is not able to replace any position, it is definitely discarded. If a larvae fights with a dead coral, the larvae replaces the dead coral.\n",
    "5. **Fragmentation**: ``Fa`` portion of corals are selected to be fragmented. The selected corals are replaced by new corals with random values in the range of each parameter, following a ``Larvae Setting`` process.\n",
    "6. **Depredation**: ``Fd`` portion of the worst corals are selected to be depredated. The selected corals can die with a probability of ``Pd``.\n",
    "\n",
    "Overall, the algorithm has 6 parameters and a list of substrates. All parameters are real values between 0 and 1, except ``k`` which is a natural number with no upper limit.\n",
    "\n",
    "<p align=\"center\">\n",
    "    <img src=\"../cro_process.png\" width=\"400px\">\n",
    "</p>\n",
    "\n",
    "\n",
    "# Define the fitness function. <a name=\"fitness\"></a>\n",
    "\n",
    "In this tutorial, we want to maximize the sum of all the parameters for each coral, so we define the fitness function as follows:"
   ],
   "metadata": {
    "collapsed": false
   }
  },
  {
   "cell_type": "code",
   "execution_count": 1,
   "outputs": [],
   "source": [
    "def non_optimized_fitness_function(x: list[list[float]]) -> list[float]:\n",
    "    return [sum(individual) for individual in x]"
   ],
   "metadata": {
    "collapsed": false,
    "ExecuteTime": {
     "start_time": "2023-04-21T11:27:05.251911Z",
     "end_time": "2023-04-21T11:27:05.252843Z"
    }
   }
  },
  {
   "cell_type": "markdown",
   "source": [
    "As this framework makes use of TensorFlow, if your fitness function makes use of TensorFlow operations it will run even faster. The input of the fitness function is a list of larvae with NxM dimensions, where N is the number of larvae and M is the number of parameters. The output of the fitness function is a list of fitness values with N dimensions. The fitness function must be defined as follows in TensorFlow:"
   ],
   "metadata": {
    "collapsed": false
   }
  },
  {
   "cell_type": "code",
   "execution_count": 2,
   "outputs": [
    {
     "name": "stderr",
     "output_type": "stream",
     "text": [
      "2023-04-21 11:27:05.383850: I tensorflow/core/platform/cpu_feature_guard.cc:182] This TensorFlow binary is optimized to use available CPU instructions in performance-critical operations.\n",
      "To enable the following instructions: AVX2 FMA, in other operations, rebuild TensorFlow with the appropriate compiler flags.\n",
      "2023-04-21 11:27:05.909469: W tensorflow/compiler/tf2tensorrt/utils/py_utils.cc:38] TF-TRT Warning: Could not find TensorRT\n"
     ]
    }
   ],
   "source": [
    "import tensorflow as tf\n",
    "def fitness_function(larvae: tf.Tensor) -> tf.Tensor:\n",
    "    return tf.reduce_sum(larvae, axis=-1)"
   ],
   "metadata": {
    "collapsed": false,
    "ExecuteTime": {
     "start_time": "2023-04-21T11:27:05.252194Z",
     "end_time": "2023-04-21T11:27:06.482553Z"
    }
   }
  },
  {
   "cell_type": "markdown",
   "source": [
    "In case you want to minimize the function, you can add a minus sign to the fitness function in the return value.\n",
    "\n",
    "# Define the CRO-SL algorithm parameters. <a name=\"parameters\"></a>\n",
    "\n",
    "The first thing to do is define the parameters of the individuals, this means, the bounds of each of the parameters. In this example, we will use 5 parameters, with different bounds. They must be defined as a 2 row tensor, where the first row is the lower bound and the second row is the upper bound. The lower bound must be smaller than the upper bound. They must be converted to a Tensor.\n",
    "\n",
    "The second thing is to define the reef shape. It is a rectangular shape where the columns MUST BE DIVISIBLE BY THE NUMBER OF SUBSTRATES. For example, we will use 3 substrates, so the reef columns must be divisible by 3. The reef rows are not limited.\n",
    "\n",
    "The third thing to do is define the parameters, the algorithm already has implemented a recommended set of parameters, but you can define your own parameters."
   ],
   "metadata": {
    "collapsed": false
   }
  },
  {
   "cell_type": "code",
   "execution_count": 3,
   "outputs": [
    {
     "name": "stderr",
     "output_type": "stream",
     "text": [
      "2023-04-21 11:27:06.783001: I tensorflow/compiler/xla/stream_executor/cuda/cuda_gpu_executor.cc:996] successful NUMA node read from SysFS had negative value (-1), but there must be at least one NUMA node, so returning NUMA node zero. See more at https://github.com/torvalds/linux/blob/v6.0/Documentation/ABI/testing/sysfs-bus-pci#L344-L355\n",
      "2023-04-21 11:27:06.818365: I tensorflow/compiler/xla/stream_executor/cuda/cuda_gpu_executor.cc:996] successful NUMA node read from SysFS had negative value (-1), but there must be at least one NUMA node, so returning NUMA node zero. See more at https://github.com/torvalds/linux/blob/v6.0/Documentation/ABI/testing/sysfs-bus-pci#L344-L355\n",
      "2023-04-21 11:27:06.818491: I tensorflow/compiler/xla/stream_executor/cuda/cuda_gpu_executor.cc:996] successful NUMA node read from SysFS had negative value (-1), but there must be at least one NUMA node, so returning NUMA node zero. See more at https://github.com/torvalds/linux/blob/v6.0/Documentation/ABI/testing/sysfs-bus-pci#L344-L355\n",
      "2023-04-21 11:27:06.819223: I tensorflow/compiler/xla/stream_executor/cuda/cuda_gpu_executor.cc:996] successful NUMA node read from SysFS had negative value (-1), but there must be at least one NUMA node, so returning NUMA node zero. See more at https://github.com/torvalds/linux/blob/v6.0/Documentation/ABI/testing/sysfs-bus-pci#L344-L355\n",
      "2023-04-21 11:27:06.819323: I tensorflow/compiler/xla/stream_executor/cuda/cuda_gpu_executor.cc:996] successful NUMA node read from SysFS had negative value (-1), but there must be at least one NUMA node, so returning NUMA node zero. See more at https://github.com/torvalds/linux/blob/v6.0/Documentation/ABI/testing/sysfs-bus-pci#L344-L355\n",
      "2023-04-21 11:27:06.819408: I tensorflow/compiler/xla/stream_executor/cuda/cuda_gpu_executor.cc:996] successful NUMA node read from SysFS had negative value (-1), but there must be at least one NUMA node, so returning NUMA node zero. See more at https://github.com/torvalds/linux/blob/v6.0/Documentation/ABI/testing/sysfs-bus-pci#L344-L355\n",
      "2023-04-21 11:27:07.355586: I tensorflow/compiler/xla/stream_executor/cuda/cuda_gpu_executor.cc:996] successful NUMA node read from SysFS had negative value (-1), but there must be at least one NUMA node, so returning NUMA node zero. See more at https://github.com/torvalds/linux/blob/v6.0/Documentation/ABI/testing/sysfs-bus-pci#L344-L355\n",
      "2023-04-21 11:27:07.355720: I tensorflow/compiler/xla/stream_executor/cuda/cuda_gpu_executor.cc:996] successful NUMA node read from SysFS had negative value (-1), but there must be at least one NUMA node, so returning NUMA node zero. See more at https://github.com/torvalds/linux/blob/v6.0/Documentation/ABI/testing/sysfs-bus-pci#L344-L355\n",
      "2023-04-21 11:27:07.355814: I tensorflow/compiler/xla/stream_executor/cuda/cuda_gpu_executor.cc:996] successful NUMA node read from SysFS had negative value (-1), but there must be at least one NUMA node, so returning NUMA node zero. See more at https://github.com/torvalds/linux/blob/v6.0/Documentation/ABI/testing/sysfs-bus-pci#L344-L355\n",
      "2023-04-21 11:27:07.355889: I tensorflow/core/common_runtime/gpu/gpu_device.cc:1635] Created device /job:localhost/replica:0/task:0/device:GPU:0 with 10360 MB memory:  -> device: 0, name: NVIDIA TITAN V, pci bus id: 0000:01:00.0, compute capability: 7.0\n"
     ]
    }
   ],
   "source": [
    "from tensorcro import TensorCro, HarmonySearch, RandomSearch, MultipointCrossover\n",
    "\n",
    "# Define parameters:\n",
    "bounds = tf.convert_to_tensor([[-1, -0.5, 0, 0, 0], [0, 0, 1, 0.5, 1]], dtype=tf.float32)  # Upper and lower limits.\n",
    "# The reef shape (81 possible individuals):\n",
    "reef_shape = (9, 9)  # Reef shape, in this case, squared. 3 columns per substrate.\n",
    "# A custom CRO parameter:\n",
    "k = 2  # Number of larvae setting trials."
   ],
   "metadata": {
    "collapsed": false,
    "ExecuteTime": {
     "start_time": "2023-04-21T11:27:06.484384Z",
     "end_time": "2023-04-21T11:27:07.456899Z"
    }
   }
  },
  {
   "cell_type": "markdown",
   "source": [
    "# Define the CRO-SL substrates. <a name=\"substrates\"></a>\n",
    "\n",
    "The last thing to do is define the substrates. The substrates are the operators that will be used to create new larvae. The framework already has implemented a set of substrates, but you can define your own substrates.\n",
    "\n",
    "To define a substrate, you can look for your favourite and instance its class. The algorithms end up with ``Search`` while ``Crossover`` are general purpose crossover operators. Algorithms that make calls to the fitness function are not supported yet."
   ],
   "metadata": {
    "collapsed": false
   }
  },
  {
   "cell_type": "code",
   "execution_count": 4,
   "outputs": [],
   "source": [
    "# Substrate definition.\n",
    "harmony_search_substrate = HarmonySearch(bounds)  # Harmony Search algorithm used as a crossover method.\n",
    "random_search_substrate = RandomSearch(bounds)  # Random Search algorithm used as a crossover method.\n",
    "multipoint_crossover_substrate = MultipointCrossover([3])  # Multipoint Crossover algorithm used as a crossover method.\n",
    "substrates = [harmony_search_substrate, random_search_substrate, multipoint_crossover_substrate]  # List of substrates.\n",
    "# CRO instance.\n",
    "cro = TensorCro(reef_shape=reef_shape, subs=substrates, k=k)  # Initialize the CRO-SL algorithm."
   ],
   "metadata": {
    "collapsed": false,
    "ExecuteTime": {
     "start_time": "2023-04-21T11:27:07.460614Z",
     "end_time": "2023-04-21T11:27:07.473221Z"
    }
   }
  },
  {
   "cell_type": "markdown",
   "source": [
    "# Run the CRO-SL algorithm. <a name=\"fit\"></a>\n",
    "\n",
    "Now, we can run the algorithm. The algorithm will run until the maximum number of iterations is reached. The algorithm will return the current reef, sorted by fitness.\n",
    "\n",
    "To do so, you must call the fitness method. The fitness method has 3 main parameters, the fitness function, the maximum number of iterations and the parameter bounds.\n",
    "\n",
    "The fit method also has other 3 parameters. ``device`` tells the device that will run the fit method. In this case, we are using the GPU. To use a GPU you must have CUDA installed and a TensorFlow-compatible GPU. ``seed`` is the seed that will be used to initialize the random number generator, it is implemented to repeat the fit process in the same way, useful for research experiments. ``shards`` is an integer telling the algorithm to save the results each `shards` iterations. For example, if we are running 1000 iterations and shards are set to 100, each 100 iterations we will save the results. This is useful to run the algorithm in a cluster and save the results in case of a crash, and also for watching the evolution replay afterward.\n",
    "\n",
    "**You can also create your own initialization reef, so you can continue a fit process from a previous saved point!** Just specify a tuple with the reef and the fitness of the reef int the `init` parameter."
   ],
   "metadata": {
    "collapsed": false
   }
  },
  {
   "cell_type": "code",
   "execution_count": 5,
   "outputs": [
    {
     "name": "stdout",
     "output_type": "stream",
     "text": [
      "5/5 [==============================] - 0s 43ms/step\n",
      "5/5 [==============================] - 0s 45ms/step\n",
      "5/5 [==============================] - 0s 44ms/step\n",
      "5/5 [==============================] - 0s 46ms/step\n",
      "5/5 [==============================] - 0s 45ms/step\n",
      "5/5 [==============================] - 0s 43ms/step\n",
      "5/5 [==============================] - 0s 42ms/step\n",
      "5/5 [==============================] - 0s 43ms/step\n",
      "5/5 [==============================] - 0s 45ms/step\n",
      "5/5 [==============================] - 0s 44ms/step\n"
     ]
    },
    {
     "data": {
      "text/plain": "<tf.Tensor: shape=(81, 5), dtype=float32, numpy=\narray([[ 0.00000000e+00, -1.18408853e-03,  1.00000000e+00,\n         5.00000000e-01,  1.00000000e+00],\n       [-3.07079311e-03,  0.00000000e+00,  9.99083042e-01,\n         4.99124587e-01,  1.00000000e+00],\n       [-1.31522305e-03,  0.00000000e+00,  1.00000000e+00,\n         4.95242804e-01,  1.00000000e+00],\n       [ 0.00000000e+00, -3.85227846e-04,  9.97938931e-01,\n         4.95267779e-01,  9.98464286e-01],\n       [ 0.00000000e+00, -1.18408853e-03,  1.00000000e+00,\n         4.94490385e-01,  9.92682755e-01],\n       [-1.41317844e-02, -1.87138584e-03,  1.00000000e+00,\n         5.00000000e-01,  1.00000000e+00],\n       [-1.41317844e-02, -1.87138584e-03,  1.00000000e+00,\n         5.00000000e-01,  1.00000000e+00],\n       [-1.41317844e-02, -1.87138584e-03,  1.00000000e+00,\n         5.00000000e-01,  1.00000000e+00],\n       [-1.41317844e-02, -1.87138584e-03,  1.00000000e+00,\n         5.00000000e-01,  1.00000000e+00],\n       [-1.41317844e-02, -1.87138584e-03,  1.00000000e+00,\n         5.00000000e-01,  1.00000000e+00],\n       [-1.41317844e-02, -1.87138584e-03,  1.00000000e+00,\n         5.00000000e-01,  1.00000000e+00],\n       [-1.41317844e-02, -1.87138584e-03,  1.00000000e+00,\n         5.00000000e-01,  1.00000000e+00],\n       [-1.41317844e-02, -1.87138584e-03,  1.00000000e+00,\n         5.00000000e-01,  1.00000000e+00],\n       [-1.41317844e-02, -1.87138584e-03,  1.00000000e+00,\n         5.00000000e-01,  1.00000000e+00],\n       [-1.41317844e-02, -1.87138584e-03,  1.00000000e+00,\n         5.00000000e-01,  1.00000000e+00],\n       [-1.41317844e-02, -1.87138584e-03,  1.00000000e+00,\n         5.00000000e-01,  1.00000000e+00],\n       [-1.41317844e-02, -1.87138584e-03,  1.00000000e+00,\n         5.00000000e-01,  1.00000000e+00],\n       [-2.01477995e-03,  0.00000000e+00,  9.90901232e-01,\n         5.00000000e-01,  9.94973719e-01],\n       [-1.41317844e-02, -1.87138584e-03,  1.00000000e+00,\n         4.93124306e-01,  1.00000000e+00],\n       [-1.41317844e-02, -1.87138584e-03,  1.00000000e+00,\n         4.93124306e-01,  1.00000000e+00],\n       [-1.41317844e-02, -1.87138584e-03,  1.00000000e+00,\n         4.93124306e-01,  1.00000000e+00],\n       [-3.12153324e-02,  0.00000000e+00,  1.00000000e+00,\n         4.91436154e-01,  9.97920275e-01],\n       [-3.61544192e-02, -7.05126207e-03,  1.00000000e+00,\n         5.00000000e-01,  1.00000000e+00],\n       [-4.18360159e-02, -8.12378188e-04,  9.96848762e-01,\n         5.00000000e-01,  1.00000000e+00],\n       [-3.03736143e-02, -1.31447082e-02,  9.94703412e-01,\n         5.00000000e-01,  1.00000000e+00],\n       [-4.28009182e-02, -7.12183863e-03,  1.00000000e+00,\n         5.00000000e-01,  1.00000000e+00],\n       [-4.28009182e-02, -7.12183863e-03,  1.00000000e+00,\n         5.00000000e-01,  1.00000000e+00],\n       [-4.28009182e-02, -7.12183863e-03,  1.00000000e+00,\n         5.00000000e-01,  1.00000000e+00],\n       [-2.60424037e-02, -2.40897220e-02,  1.00000000e+00,\n         5.00000000e-01,  1.00000000e+00],\n       [-2.60424037e-02, -2.40897220e-02,  1.00000000e+00,\n         5.00000000e-01,  1.00000000e+00],\n       [-3.15705761e-02, -1.90757401e-02,  1.00000000e+00,\n         5.00000000e-01,  1.00000000e+00],\n       [-4.53776345e-02, -9.95992310e-03,  1.00000000e+00,\n         5.00000000e-01,  1.00000000e+00],\n       [-4.53776345e-02, -9.95992310e-03,  1.00000000e+00,\n         5.00000000e-01,  1.00000000e+00],\n       [-4.53776345e-02, -9.95992310e-03,  1.00000000e+00,\n         5.00000000e-01,  1.00000000e+00],\n       [-4.53776345e-02, -9.95992310e-03,  1.00000000e+00,\n         5.00000000e-01,  1.00000000e+00],\n       [-4.53776345e-02, -9.95992310e-03,  1.00000000e+00,\n         5.00000000e-01,  1.00000000e+00],\n       [-4.53776345e-02, -9.95992310e-03,  1.00000000e+00,\n         5.00000000e-01,  1.00000000e+00],\n       [-4.53776345e-02, -9.95992310e-03,  1.00000000e+00,\n         5.00000000e-01,  1.00000000e+00],\n       [-4.53776345e-02, -9.95992310e-03,  1.00000000e+00,\n         5.00000000e-01,  1.00000000e+00],\n       [-3.79223749e-02, -1.07397661e-02,  1.00000000e+00,\n         4.92667407e-01,  1.00000000e+00],\n       [-1.96702331e-02, -2.33880077e-02,  1.00000000e+00,\n         4.99052525e-01,  9.86105025e-01],\n       [-4.18360159e-02, -8.12378188e-04,  9.96848762e-01,\n         4.91959065e-01,  9.95597124e-01],\n       [-5.12662604e-02, -8.54963437e-04,  1.00000000e+00,\n         5.00000000e-01,  9.93097663e-01],\n       [-4.45757732e-02, -1.53266378e-02,  1.00000000e+00,\n         5.00000000e-01,  1.00000000e+00],\n       [-4.45757732e-02, -1.53266378e-02,  1.00000000e+00,\n         5.00000000e-01,  1.00000000e+00],\n       [-4.53776345e-02, -9.95992310e-03,  1.00000000e+00,\n         4.93124306e-01,  1.00000000e+00],\n       [-4.53776345e-02, -9.95992310e-03,  1.00000000e+00,\n         4.93124306e-01,  1.00000000e+00],\n       [-4.45757732e-02, -1.53266378e-02,  1.00000000e+00,\n         5.00000000e-01,  9.97236192e-01],\n       [-4.45757732e-02, -1.53266378e-02,  1.00000000e+00,\n         5.00000000e-01,  9.97236192e-01],\n       [-3.92814800e-02, -2.50628702e-02,  1.00000000e+00,\n         5.00000000e-01,  1.00000000e+00],\n       [-3.92814800e-02, -2.50628702e-02,  1.00000000e+00,\n         5.00000000e-01,  1.00000000e+00],\n       [-3.92814800e-02, -2.50628702e-02,  1.00000000e+00,\n         5.00000000e-01,  1.00000000e+00],\n       [-5.98478578e-02, -5.18258847e-03,  1.00000000e+00,\n         5.00000000e-01,  1.00000000e+00],\n       [-5.98478578e-02, -5.18258847e-03,  1.00000000e+00,\n         5.00000000e-01,  1.00000000e+00],\n       [-5.98478578e-02, -5.18258847e-03,  1.00000000e+00,\n         5.00000000e-01,  1.00000000e+00],\n       [-5.98478578e-02, -5.18258847e-03,  1.00000000e+00,\n         5.00000000e-01,  1.00000000e+00],\n       [-5.98478578e-02, -5.18258847e-03,  1.00000000e+00,\n         5.00000000e-01,  1.00000000e+00],\n       [-5.98478578e-02, -5.18258847e-03,  1.00000000e+00,\n         5.00000000e-01,  9.97236192e-01],\n       [-5.50645515e-02, -1.16710607e-02,  9.98778820e-01,\n         5.00000000e-01,  1.00000000e+00],\n       [-4.30721566e-02, -2.53229123e-02,  1.00000000e+00,\n         5.00000000e-01,  1.00000000e+00],\n       [-3.92814800e-02, -2.50628702e-02,  1.00000000e+00,\n         4.93124306e-01,  1.00000000e+00],\n       [-5.51302880e-02, -1.65652931e-02,  1.00000000e+00,\n         5.00000000e-01,  1.00000000e+00],\n       [-5.55470698e-02, -1.73103455e-02,  1.00000000e+00,\n         5.00000000e-01,  1.00000000e+00],\n       [-5.55470698e-02, -1.73103455e-02,  1.00000000e+00,\n         5.00000000e-01,  1.00000000e+00],\n       [-5.55470698e-02, -1.73103455e-02,  1.00000000e+00,\n         5.00000000e-01,  1.00000000e+00],\n       [-5.55470698e-02, -1.73103455e-02,  1.00000000e+00,\n         5.00000000e-01,  1.00000000e+00],\n       [-5.55470698e-02, -1.73103455e-02,  1.00000000e+00,\n         5.00000000e-01,  1.00000000e+00],\n       [-5.55470698e-02, -1.73103455e-02,  1.00000000e+00,\n         5.00000000e-01,  1.00000000e+00],\n       [-5.42195290e-02, -2.34599784e-02,  9.90319014e-01,\n         5.00000000e-01,  9.88677144e-01],\n       [-4.53776345e-02, -9.95992310e-03,  1.00000000e+00,\n         5.00000000e-01,  1.00000000e+00],\n       [-3.92814800e-02, -2.50628702e-02,  1.00000000e+00,\n         5.00000000e-01,  1.00000000e+00],\n       [-8.48347068e-01, -3.58048737e-01,  1.15525246e-01,\n         1.04209125e-01,  4.78844762e-01],\n       [-3.92814800e-02, -2.50628702e-02,  1.00000000e+00,\n         5.00000000e-01,  1.00000000e+00],\n       [-5.50645515e-02, -1.16710607e-02,  9.98778820e-01,\n         5.00000000e-01,  1.00000000e+00],\n       [-5.48736118e-02, -1.81406997e-02,  1.00000000e+00,\n         5.00000000e-01,  1.00000000e+00],\n       [-1.36692092e-01, -1.16710607e-02,  9.98778820e-01,\n         5.00000000e-01,  1.00000000e+00],\n       [-2.19576001e-01, -3.91681373e-01,  8.12959194e-01,\n         3.56793761e-01,  2.06271768e-01],\n       [-9.61990952e-01, -1.34184778e-01,  7.81909943e-01,\n         1.82960033e-01,  7.72881746e-01],\n       [-1.96702331e-02, -2.33880077e-02,  1.00000000e+00,\n         4.99052525e-01,  9.86105025e-01],\n       [-5.50645515e-02, -1.16710607e-02,  9.98778820e-01,\n         5.00000000e-01,  1.00000000e+00],\n       [-5.55470698e-02, -1.73103455e-02,  1.00000000e+00,\n         5.00000000e-01,  1.00000000e+00]], dtype=float32)>"
     },
     "execution_count": 5,
     "metadata": {},
     "output_type": "execute_result"
    }
   ],
   "source": [
    "# Initial reef, if provided:\n",
    "initial_reef = tf.zeros((9, 9, 5), dtype=tf.float32)\n",
    "initial_fitness = fitness_function(initial_reef)\n",
    "# Fit method.\n",
    "cro.fit(fitness_function, bounds, max_iter=50, device='/GPU:0', seed=0, shards=5, init=(initial_reef, initial_fitness))  # Run the algorithm."
   ],
   "metadata": {
    "collapsed": false,
    "ExecuteTime": {
     "start_time": "2023-04-21T11:27:07.474319Z",
     "end_time": "2023-04-21T11:27:09.819208Z"
    }
   }
  },
  {
   "cell_type": "markdown",
   "source": [
    "# Watch the evolution replay. <a name=\"replay\"></a>\n",
    "\n",
    "Once we selected an optimal number of iterations, we can watch the evolution replay. The evolution replay is watched though a Tkinter GUI. The parameters to launch the GUI are:\n",
    "\n",
    "- ``path: str``: Path of the replay.\n",
    "- ``mp: bool``: Launch the GUI in a different process.\n",
    "- ``lock: bool``: Waits the GUI to be closed to continue the program.\n",
    "\n",
    "For that we can save the last fit launched in the path we want with the `save_replay` method, but we are not going to use it in this tutorial. If you want to watch the last replay, you can omit the `path` parameter."
   ],
   "metadata": {
    "collapsed": false
   }
  },
  {
   "cell_type": "code",
   "execution_count": 6,
   "outputs": [],
   "source": [
    "cro.watch_replay()"
   ],
   "metadata": {
    "collapsed": false,
    "ExecuteTime": {
     "start_time": "2023-04-21T11:27:09.815961Z",
     "end_time": "2023-04-21T11:27:09.819379Z"
    }
   }
  },
  {
   "cell_type": "markdown",
   "source": [
    "# Building new substrates. <a name=\"substrates\"></a>\n",
    "\n",
    "The framework already has implemented a set of substrates, but you can define your own substrates. To define a substrate, you can implement your substrate from zero or use the ``ComposedSubstrate`` class to define a sequential set of substrates. For example, we implement the genetic algorithm as a sequential of `MultiPointCrossover` and `Mutation` substrates."
   ],
   "metadata": {
    "collapsed": false
   }
  },
  {
   "cell_type": "code",
   "execution_count": 7,
   "outputs": [],
   "source": [
    "from tensorcro import ComposedSubstrate, Mutation\n",
    "\n",
    "genetic_algorithm = ComposedSubstrate(MultipointCrossover([3]), Mutation('gaussian', stddev=0.1), name='GeneticAlgorithm')"
   ],
   "metadata": {
    "collapsed": false,
    "ExecuteTime": {
     "start_time": "2023-04-21T11:27:09.816046Z",
     "end_time": "2023-04-21T11:27:09.819494Z"
    }
   }
  },
  {
   "cell_type": "markdown",
   "source": [
    "We can also implement the genetic algorithm as a new substrate using the class ``Substrate``. You must implement a method called `_call` that takes a list of larvae to be crossed and returns a list of larvae crossed. The ``Substrate`` class has a method called `__call__` that calls the `_call` method and returns the crossed larvae."
   ],
   "metadata": {
    "collapsed": false
   }
  },
  {
   "cell_type": "code",
   "execution_count": 8,
   "outputs": [],
   "source": [
    "from tensorcro.substrates import CROSubstrate\n",
    "\n",
    "class GeneticAlgorithm(CROSubstrate):\n",
    "    def __init__(self, crossover_points: list[int], mutation_stddev: float):\n",
    "        self.crossover_points = crossover_points\n",
    "        self.mutation_stddev = mutation_stddev\n",
    "\n",
    "    def _call(self, individuals: tf.Tensor) -> tf.Tensor:\n",
    "        # Use your TensorFlow implementation, I will use the pre-defined classes.\n",
    "        return Mutation('gaussian', stddev=self.mutation_stddev)(MultipointCrossover(self.crossover_points)(individuals))"
   ],
   "metadata": {
    "collapsed": false,
    "ExecuteTime": {
     "start_time": "2023-04-21T11:27:09.816177Z",
     "end_time": "2023-04-21T11:27:09.819591Z"
    }
   }
  },
  {
   "cell_type": "markdown",
   "source": [
    "All done! Good job!"
   ],
   "metadata": {
    "collapsed": false
   }
  }
 ],
 "metadata": {
  "kernelspec": {
   "display_name": "Python 3",
   "language": "python",
   "name": "python3"
  },
  "language_info": {
   "codemirror_mode": {
    "name": "ipython",
    "version": 2
   },
   "file_extension": ".py",
   "mimetype": "text/x-python",
   "name": "python",
   "nbconvert_exporter": "python",
   "pygments_lexer": "ipython2",
   "version": "2.7.6"
  }
 },
 "nbformat": 4,
 "nbformat_minor": 0
}
